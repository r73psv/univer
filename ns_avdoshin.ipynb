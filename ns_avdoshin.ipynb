{
  "nbformat": 4,
  "nbformat_minor": 0,
  "metadata": {
    "colab": {
      "provenance": [],
      "authorship_tag": "ABX9TyMpt0RO/JFQhgjQrQtIsoUU",
      "include_colab_link": true
    },
    "kernelspec": {
      "name": "python3",
      "display_name": "Python 3"
    },
    "language_info": {
      "name": "python"
    }
  },
  "cells": [
    {
      "cell_type": "markdown",
      "metadata": {
        "id": "view-in-github",
        "colab_type": "text"
      },
      "source": [
        "<a href=\"https://colab.research.google.com/github/r73psv/univer/blob/master/ns_avdoshin.ipynb\" target=\"_parent\"><img src=\"https://colab.research.google.com/assets/colab-badge.svg\" alt=\"Open In Colab\"/></a>"
      ]
    },
    {
      "cell_type": "code",
      "execution_count": 4,
      "metadata": {
        "id": "ZiSGo30MKPNz"
      },
      "outputs": [],
      "source": [
        "import torch\n",
        "import torchvision\n",
        "import torchvision.transforms as transforms"
      ]
    },
    {
      "cell_type": "code",
      "source": [
        "#  Загрузка набора MNIST\n",
        "# преобразовываем изображение в тензоры, затем нормализуем\n",
        "# путь куда грузим\n",
        "DATA_PATH = './data'\n",
        "# выполняемое преобразование над набором данных\n",
        "trans = transforms.Compose([transforms.ToTensor(),\n",
        "transforms.Normalize((0.1307,), (0.3081,))])\n",
        "# грузим набор данных тренировочный\n",
        "train_dataset = torchvision.datasets.MNIST(root=DATA_PATH, train=True,\n",
        "transform=trans, download=True)\n",
        "trainloader = torch.utils.data.DataLoader(train_dataset, batch_size=64,\n",
        "                                          shuffle=True, num_workers=2)\n",
        "# грузим набор данных тестовый\n",
        "test_dataset = torchvision.datasets.MNIST(root=DATA_PATH, train=False,\n",
        "transform=trans)\n",
        "testloader = torch.utils.data.DataLoader(test_dataset, batch_size=4,\n",
        "                                         shuffle=False, num_workers=2)"
      ],
      "metadata": {
        "id": "6NQw2YCfKXVL",
        "colab": {
          "base_uri": "https://localhost:8080/"
        },
        "outputId": "46368c45-83c0-4093-a2b4-d711485ea1ac"
      },
      "execution_count": 5,
      "outputs": [
        {
          "output_type": "stream",
          "name": "stdout",
          "text": [
            "Downloading http://yann.lecun.com/exdb/mnist/train-images-idx3-ubyte.gz\n",
            "Downloading http://yann.lecun.com/exdb/mnist/train-images-idx3-ubyte.gz to ./data/MNIST/raw/train-images-idx3-ubyte.gz\n"
          ]
        },
        {
          "output_type": "stream",
          "name": "stderr",
          "text": [
            "100%|██████████| 9912422/9912422 [05:05<00:00, 32480.31it/s]\n"
          ]
        },
        {
          "output_type": "stream",
          "name": "stdout",
          "text": [
            "Extracting ./data/MNIST/raw/train-images-idx3-ubyte.gz to ./data/MNIST/raw\n",
            "\n",
            "Downloading http://yann.lecun.com/exdb/mnist/train-labels-idx1-ubyte.gz\n",
            "Failed to download (trying next):\n",
            "HTTP Error 503: Service Unavailable\n",
            "\n",
            "Downloading https://ossci-datasets.s3.amazonaws.com/mnist/train-labels-idx1-ubyte.gz\n",
            "Downloading https://ossci-datasets.s3.amazonaws.com/mnist/train-labels-idx1-ubyte.gz to ./data/MNIST/raw/train-labels-idx1-ubyte.gz\n"
          ]
        },
        {
          "output_type": "stream",
          "name": "stderr",
          "text": [
            "100%|██████████| 28881/28881 [00:00<00:00, 159801.61it/s]\n"
          ]
        },
        {
          "output_type": "stream",
          "name": "stdout",
          "text": [
            "Extracting ./data/MNIST/raw/train-labels-idx1-ubyte.gz to ./data/MNIST/raw\n",
            "\n",
            "Downloading http://yann.lecun.com/exdb/mnist/t10k-images-idx3-ubyte.gz\n",
            "Failed to download (trying next):\n",
            "HTTP Error 503: Service Unavailable\n",
            "\n",
            "Downloading https://ossci-datasets.s3.amazonaws.com/mnist/t10k-images-idx3-ubyte.gz\n",
            "Downloading https://ossci-datasets.s3.amazonaws.com/mnist/t10k-images-idx3-ubyte.gz to ./data/MNIST/raw/t10k-images-idx3-ubyte.gz\n"
          ]
        },
        {
          "output_type": "stream",
          "name": "stderr",
          "text": [
            "100%|██████████| 1648877/1648877 [00:03<00:00, 454433.75it/s]\n"
          ]
        },
        {
          "output_type": "stream",
          "name": "stdout",
          "text": [
            "Extracting ./data/MNIST/raw/t10k-images-idx3-ubyte.gz to ./data/MNIST/raw\n",
            "\n",
            "Downloading http://yann.lecun.com/exdb/mnist/t10k-labels-idx1-ubyte.gz\n",
            "Failed to download (trying next):\n",
            "HTTP Error 503: Service Unavailable\n",
            "\n",
            "Downloading https://ossci-datasets.s3.amazonaws.com/mnist/t10k-labels-idx1-ubyte.gz\n",
            "Downloading https://ossci-datasets.s3.amazonaws.com/mnist/t10k-labels-idx1-ubyte.gz to ./data/MNIST/raw/t10k-labels-idx1-ubyte.gz\n"
          ]
        },
        {
          "output_type": "stream",
          "name": "stderr",
          "text": [
            "100%|██████████| 4542/4542 [00:00<00:00, 3091112.89it/s]"
          ]
        },
        {
          "output_type": "stream",
          "name": "stdout",
          "text": [
            "Extracting ./data/MNIST/raw/t10k-labels-idx1-ubyte.gz to ./data/MNIST/raw\n",
            "\n"
          ]
        },
        {
          "output_type": "stream",
          "name": "stderr",
          "text": [
            "\n"
          ]
        }
      ]
    },
    {
      "cell_type": "code",
      "source": [
        "#задаем устройство на котором будет тенироваться сеть - видеопроцессор, если нет то процессор\n",
        "device = torch.device(\"cuda:0\" if torch.cuda.is_available() else \"cpu\")\n",
        "print(device)"
      ],
      "metadata": {
        "colab": {
          "base_uri": "https://localhost:8080/"
        },
        "id": "qeK95eqGXZFi",
        "outputId": "763f56e6-0ca7-4dfb-b77f-6088b4bddc64"
      },
      "execution_count": 6,
      "outputs": [
        {
          "output_type": "stream",
          "name": "stdout",
          "text": [
            "cpu\n"
          ]
        }
      ]
    },
    {
      "cell_type": "code",
      "source": [
        "#создаем свёрточную НС (4 свёрточных слоя и 2 линейных)\n",
        "import torch.nn as nn\n",
        "import torch.nn.functional as F\n",
        "\n",
        "class Net(nn.Module):\n",
        "    def __init__(self):\n",
        "        super().__init__()\n",
        "        self.conv1 = nn.Conv2d(1,10,5)\n",
        "        self.pool1 = nn.MaxPool2d(2, 2)\n",
        "        self.conv2 = nn.Conv2d(10,20, 5)\n",
        "        self.pool2 = nn.MaxPool2d(2, 2)\n",
        "        self.fc1 = nn.Linear(320, 50, bias=True)\n",
        "        self.fc2 = nn.Linear(50, 10, bias=True)\n",
        "\n",
        "    # реализация метода forward в классе Net\n",
        "    def forward(self, input):\n",
        "        x = self.pool1(F.sigmoid(self.conv1(input)))\n",
        "        x = self.pool2(F.sigmoid(self.conv2(x)))\n",
        "        x = x.view(x.size(0), -1)\n",
        "        x = F.sigmoid(self.fc1(x))\n",
        "        x = self.fc2(x)\n",
        "        return x\n",
        "\n",
        "net = Net()\n",
        "net.to(device)"
      ],
      "metadata": {
        "colab": {
          "base_uri": "https://localhost:8080/"
        },
        "id": "yDhnOeRnOYyy",
        "outputId": "4946a4a5-bd87-4ad2-bffb-357c39972032"
      },
      "execution_count": 7,
      "outputs": [
        {
          "output_type": "execute_result",
          "data": {
            "text/plain": [
              "Net(\n",
              "  (conv1): Conv2d(1, 10, kernel_size=(5, 5), stride=(1, 1))\n",
              "  (pool1): MaxPool2d(kernel_size=2, stride=2, padding=0, dilation=1, ceil_mode=False)\n",
              "  (conv2): Conv2d(10, 20, kernel_size=(5, 5), stride=(1, 1))\n",
              "  (pool2): MaxPool2d(kernel_size=2, stride=2, padding=0, dilation=1, ceil_mode=False)\n",
              "  (fc1): Linear(in_features=320, out_features=50, bias=True)\n",
              "  (fc2): Linear(in_features=50, out_features=10, bias=True)\n",
              ")"
            ]
          },
          "metadata": {},
          "execution_count": 7
        }
      ]
    },
    {
      "cell_type": "code",
      "source": [
        "##criterion = nn.L1Loss()\n",
        "criterion = nn.CrossEntropyLoss()\n",
        "optimizer = torch.optim.RMSprop(net.parameters(), lr=0.001, momentum=0.9)\n",
        "\n",
        "for epoch in range(4):\n",
        "    running_loss = 0.0\n",
        "    running_acc = 0.0\n",
        "    for i,data in enumerate(trainloader,1):\n",
        "        img,label = data\n",
        "        #img = Variable(img)\n",
        "        #label = Variable(label)\n",
        "        out = net(img)\n",
        "        #print(out)\n",
        "        loss = criterion(out,label) #loss\n",
        "        running_loss += loss.item() * label.size(0)\n",
        "        #total loss\n",
        "        _,pred = torch.max(out,1)\n",
        "        num_correct = (pred == label).sum()\n",
        "        #accuracy = (pred == label).float().mean()\n",
        "        running_acc += num_correct.item()\n",
        "\n",
        "        optimizer.zero_grad()\n",
        "        loss.backward()\n",
        "        optimizer.step()\n",
        "    print('Train{} epoch, Loss: {:.6f},Acc: {:.6f}'.format(epoch+1,running_loss / (len(train_dataset)),running_acc / (len(train_dataset))))"
      ],
      "metadata": {
        "colab": {
          "base_uri": "https://localhost:8080/"
        },
        "id": "noLDp3s7Ob4i",
        "outputId": "ed9d6131-aac8-4bca-a3a9-4cce9f2ce3ce"
      },
      "execution_count": 13,
      "outputs": [
        {
          "output_type": "stream",
          "name": "stdout",
          "text": [
            "Train1 epoch, Loss: 0.083222,Acc: 0.974867\n",
            "Train2 epoch, Loss: 0.055230,Acc: 0.982817\n",
            "Train3 epoch, Loss: 0.046436,Acc: 0.985433\n",
            "Train4 epoch, Loss: 0.037969,Acc: 0.988250\n"
          ]
        }
      ]
    },
    {
      "cell_type": "code",
      "source": [
        "net.eval()\n",
        "eval_loss = 0\n",
        "eval_acc = 0\n",
        "for data in testloader:\n",
        "    img,label = data\n",
        "    #img = Variable(img,volatile=True)\n",
        "    out = net(img)\n",
        "    loss = criterion(out,label)\n",
        "    eval_loss += loss.item() * label.size(0)    #total loss\n",
        "    _,pred = torch.max(out,1)\n",
        "    num_correct = (pred == label).sum()\n",
        "    eval_acc += num_correct.item()\n",
        "\n",
        "print('Test Loss:{:.6f},Acc: {:.6f}'\n",
        "      .format(eval_loss/ (len(test_dataset)),eval_acc * 1.0/(len(test_dataset))))"
      ],
      "metadata": {
        "colab": {
          "base_uri": "https://localhost:8080/"
        },
        "id": "alPDin5mRNwY",
        "outputId": "5684a172-974f-4164-df1d-1ae090797203"
      },
      "execution_count": 14,
      "outputs": [
        {
          "output_type": "stream",
          "name": "stderr",
          "text": [
            "/usr/lib/python3.10/multiprocessing/popen_fork.py:66: RuntimeWarning: os.fork() was called. os.fork() is incompatible with multithreaded code, and JAX is multithreaded, so this will likely lead to a deadlock.\n",
            "  self.pid = os.fork()\n",
            "/usr/lib/python3.10/multiprocessing/popen_fork.py:66: RuntimeWarning: os.fork() was called. os.fork() is incompatible with multithreaded code, and JAX is multithreaded, so this will likely lead to a deadlock.\n",
            "  self.pid = os.fork()\n"
          ]
        },
        {
          "output_type": "stream",
          "name": "stdout",
          "text": [
            "Test Loss:0.050044,Acc: 0.983000\n"
          ]
        }
      ]
    },
    {
      "cell_type": "code",
      "source": [],
      "metadata": {
        "id": "i3JLsQ-sIlrV"
      },
      "execution_count": null,
      "outputs": []
    }
  ]
}