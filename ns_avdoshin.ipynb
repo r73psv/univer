{
  "nbformat": 4,
  "nbformat_minor": 0,
  "metadata": {
    "colab": {
      "provenance": [],
      "authorship_tag": "ABX9TyMI2lFTbPYrhgdNTtJ0oTDY",
      "include_colab_link": true
    },
    "kernelspec": {
      "name": "python3",
      "display_name": "Python 3"
    },
    "language_info": {
      "name": "python"
    }
  },
  "cells": [
    {
      "cell_type": "markdown",
      "metadata": {
        "id": "view-in-github",
        "colab_type": "text"
      },
      "source": [
        "<a href=\"https://colab.research.google.com/github/r73psv/univer/blob/master/ns_avdoshin.ipynb\" target=\"_parent\"><img src=\"https://colab.research.google.com/assets/colab-badge.svg\" alt=\"Open In Colab\"/></a>"
      ]
    },
    {
      "cell_type": "code",
      "execution_count": 6,
      "metadata": {
        "id": "ZiSGo30MKPNz"
      },
      "outputs": [],
      "source": [
        "import torch\n",
        "import torchvision\n",
        "import torchvision.transforms as transforms"
      ]
    },
    {
      "cell_type": "code",
      "source": [
        "#  Загрузка набора MNIST\n",
        "# преобразовываем изображение в тензоры, затем нормализуем\n",
        "# путь куда грузим\n",
        "DATA_PATH = './data'\n",
        "# выполняемое преобразование над набором данных\n",
        "trans = transforms.Compose([transforms.ToTensor(),\n",
        "transforms.Normalize((0.1307,), (0.3081,))])\n",
        "# грузим набор данных тренировочный\n",
        "train_dataset = torchvision.datasets.MNIST(root=DATA_PATH, train=True,\n",
        "transform=trans, download=True)\n",
        "trainloader = torch.utils.data.DataLoader(train_dataset, batch_size=64,\n",
        "                                          shuffle=True, num_workers=2)\n",
        "# грузим набор данных тестовый\n",
        "test_dataset = torchvision.datasets.MNIST(root=DATA_PATH, train=False,\n",
        "transform=trans)\n",
        "testloader = torch.utils.data.DataLoader(test_dataset, batch_size=4,\n",
        "                                         shuffle=False, num_workers=2)"
      ],
      "metadata": {
        "id": "6NQw2YCfKXVL"
      },
      "execution_count": 27,
      "outputs": []
    },
    {
      "cell_type": "code",
      "source": [
        "#задаем устройство на котором будет тенироваться сеть - видеопроцессор, если нет то процессор\n",
        "device = torch.device(\"cuda:0\" if torch.cuda.is_available() else \"cpu\")\n",
        "print(device)"
      ],
      "metadata": {
        "colab": {
          "base_uri": "https://localhost:8080/"
        },
        "id": "qeK95eqGXZFi",
        "outputId": "a2508bbb-06a2-4b1b-cf38-2fa7288b6e15"
      },
      "execution_count": 28,
      "outputs": [
        {
          "output_type": "stream",
          "name": "stdout",
          "text": [
            "cpu\n"
          ]
        }
      ]
    },
    {
      "cell_type": "code",
      "source": [
        "#создаем свёрточную НС (4 свёрточных слоя и 2 линейных)\n",
        "import torch.nn as nn\n",
        "import torch.nn.functional as F\n",
        "\n",
        "class Net(nn.Module):\n",
        "    def __init__(self):\n",
        "        super().__init__()\n",
        "        self.conv1 = nn.Conv2d(1,10,5)\n",
        "        self.pool1 = nn.MaxPool2d(2, 2)\n",
        "        self.conv2 = nn.Conv2d(10,20, 5)\n",
        "        self.pool2 = nn.MaxPool2d(2, 2)\n",
        "        self.fc1 = nn.Linear(320, 50, bias=True)\n",
        "        self.fc2 = nn.Linear(50, 10, bias=True)\n",
        "\n",
        "    # реализация метода forward в классе Net\n",
        "    def forward(self, input):\n",
        "        x = self.pool1(F.sigmoid(self.conv1(input)))\n",
        "        x = self.pool2(F.sigmoid(self.conv2(x)))\n",
        "        x = x.view(x.size(0), -1)\n",
        "        x = F.sigmoid(self.fc1(x))\n",
        "        x = self.fc2(x)\n",
        "        return x\n",
        "\n",
        "net = Net()\n",
        "net.to(device)"
      ],
      "metadata": {
        "colab": {
          "base_uri": "https://localhost:8080/"
        },
        "id": "yDhnOeRnOYyy",
        "outputId": "ddd6767b-1bab-4940-cc3e-46065a78522c"
      },
      "execution_count": 29,
      "outputs": [
        {
          "output_type": "execute_result",
          "data": {
            "text/plain": [
              "Net(\n",
              "  (conv1): Conv2d(1, 10, kernel_size=(5, 5), stride=(1, 1))\n",
              "  (pool1): MaxPool2d(kernel_size=2, stride=2, padding=0, dilation=1, ceil_mode=False)\n",
              "  (conv2): Conv2d(10, 20, kernel_size=(5, 5), stride=(1, 1))\n",
              "  (pool2): MaxPool2d(kernel_size=2, stride=2, padding=0, dilation=1, ceil_mode=False)\n",
              "  (fc1): Linear(in_features=320, out_features=50, bias=True)\n",
              "  (fc2): Linear(in_features=50, out_features=10, bias=True)\n",
              ")"
            ]
          },
          "metadata": {},
          "execution_count": 29
        }
      ]
    },
    {
      "cell_type": "code",
      "source": [
        "input = torch.randn(1, 1, 28, 28)\n",
        "out = net(input)\n",
        "print(out.size())\n",
        "target = torch.LongTensor([3])\n",
        "loss_fn = nn.L1Loss()\n",
        "err = loss_fn(out, target)\n",
        "err.backward()\n",
        "print(err)\n",
        "print(net.conv1.weight.data.norm())\n",
        "print(net.conv1.weight.grad.data.norm())"
      ],
      "metadata": {
        "colab": {
          "base_uri": "https://localhost:8080/"
        },
        "id": "ekDEsKA0Xo4H",
        "outputId": "fbb99dbf-7c49-4101-f481-02833bf08a31"
      },
      "execution_count": 30,
      "outputs": [
        {
          "output_type": "stream",
          "name": "stdout",
          "text": [
            "torch.Size([1, 10])\n",
            "tensor(2.9971, grad_fn=<MeanBackward0>)\n",
            "tensor(1.7940)\n",
            "tensor(0.0038)\n"
          ]
        },
        {
          "output_type": "stream",
          "name": "stderr",
          "text": [
            "/usr/local/lib/python3.10/dist-packages/torch/nn/modules/loss.py:101: UserWarning: Using a target size (torch.Size([1])) that is different to the input size (torch.Size([1, 10])). This will likely lead to incorrect results due to broadcasting. Please ensure they have the same size.\n",
            "  return F.l1_loss(input, target, reduction=self.reduction)\n"
          ]
        }
      ]
    },
    {
      "cell_type": "code",
      "source": [
        "# задаем параметры НС\n",
        "input_dim = 784\n",
        "output_dim = 10\n",
        "learning_rate = 0.01\n",
        "criterion = nn.L1Loss()\n",
        "model = net(784 10)\n",
        "optimizer = torch.optim.rmsprop(model.parameters(), lr=learning_rate)\n",
        "seq_dim = 28\n",
        "iter = 0\n",
        "for epoch in range(10):\n",
        "  for i, (images, labels) in enumerate(trainloader):\n",
        "    model.train()\n",
        " # Загрузка изображений в виде тензоров с возможностью накопления градиента\n",
        "    images = images.view(-1, seq_dim, input_dim).requires_grad_()\n",
        " # Обнуление градиента\n",
        "    optimizer.zero_grad()\n",
        " # Прямой проход\n",
        "    outputs = model(images)\n",
        " # Расчитываем функцию потерь\n",
        "    loss = criterion(outputs, labels)\n",
        " # Обратный проход\n",
        "    loss.backward()\n",
        " # Шаг градиентного спуска (изменение параметров НС)\n",
        "    optimizer.step()\n",
        "    iter += 1\n",
        "    if iter % 500 == 0:\n",
        " #производим оценки НС\n",
        "      model.eval()\n",
        "      correct = 0\n",
        "      total = 0\n",
        "      for images, labels in test_loader:\n",
        "        images = images.view(-1, seq_dim, input_dim)\n",
        "        outputs = model(images)\n",
        "        _, predicted = torch.max(outputs.data, 1)\n",
        "        total += labels.size(0)\n",
        "        correct += (predicted == labels).sum()\n",
        "        accuracy = 100 * correct / total\n",
        "        print('Итерация: {}. Потери: {}. Точность: {}'.format(iter, loss.item(), accuracy))"
      ],
      "metadata": {
        "colab": {
          "base_uri": "https://localhost:8080/",
          "height": 106
        },
        "id": "iYhURmaAsYTr",
        "outputId": "a245d647-b5ea-4323-9639-6b4124a76905"
      },
      "execution_count": 37,
      "outputs": [
        {
          "output_type": "error",
          "ename": "SyntaxError",
          "evalue": "invalid syntax. Perhaps you forgot a comma? (<ipython-input-37-55ff1bdc8d7e>, line 6)",
          "traceback": [
            "\u001b[0;36m  File \u001b[0;32m\"<ipython-input-37-55ff1bdc8d7e>\"\u001b[0;36m, line \u001b[0;32m6\u001b[0m\n\u001b[0;31m    model = net(1 10)\u001b[0m\n\u001b[0m                ^\u001b[0m\n\u001b[0;31mSyntaxError\u001b[0m\u001b[0;31m:\u001b[0m invalid syntax. Perhaps you forgot a comma?\n"
          ]
        }
      ]
    }
  ]
}